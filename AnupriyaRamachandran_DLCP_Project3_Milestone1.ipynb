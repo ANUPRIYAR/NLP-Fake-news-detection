{
 "cells": [
  {
   "cell_type": "markdown",
   "metadata": {
    "colab_type": "text",
    "id": "QI9jhXKPCFcJ"
   },
   "source": [
    "# Stance Detection for the Fake News Challenge\n",
    "\n",
    "## Identifying Textual Relationships with Deep Neural Nets\n",
    "\n",
    "### Check the problem context [here](https://drive.google.com/open?id=1KfWaZyQdGBw8AUTacJ2yY86Yxgw2Xwq0).\n",
    "\n",
    "### Download files required for the project from [here](https://drive.google.com/open?id=10yf39ifEwVihw4xeJJR60oeFBY30Y5J8)."
   ]
  },
  {
   "cell_type": "markdown",
   "metadata": {
    "colab_type": "text",
    "id": "XGwVS1UaO9LF"
   },
   "source": [
    " ## <font color=red> Milestone - 1 </font>"
   ]
  },
  {
   "cell_type": "markdown",
   "metadata": {
    "colab_type": "text",
    "id": "vSNgdEMpenpE"
   },
   "source": [
    "## Step1: Load the given dataset <h1> [10 marks] </h1>\n",
    "\n",
    "1. Mount the google drive\n",
    "\n",
    "2. Import Glove embeddings\n",
    "\n",
    "3. Import the test and train datasets"
   ]
  },
  {
   "cell_type": "markdown",
   "metadata": {
    "colab_type": "text",
    "id": "aPOZRohMiSpQ"
   },
   "source": [
    "### Mount the google drive to access required project files\n",
    "\n",
    "Run the below commands"
   ]
  },
  {
   "cell_type": "code",
   "execution_count": 0,
   "metadata": {
    "colab": {},
    "colab_type": "code",
    "id": "7AS39z1XgFpT"
   },
   "outputs": [],
   "source": [
    "from google.colab import drive"
   ]
  },
  {
   "cell_type": "code",
   "execution_count": 0,
   "metadata": {
    "colab": {
     "base_uri": "https://localhost:8080/",
     "height": 122
    },
    "colab_type": "code",
    "id": "S_7yCFdzgFsH",
    "outputId": "13e44dd2-cc6c-4767-de8d-6d39aaec258e"
   },
   "outputs": [
    {
     "name": "stdout",
     "output_type": "stream",
     "text": [
      "Go to this URL in a browser: https://accounts.google.com/o/oauth2/auth?client_id=947318989803-6bn6qk8qdgf4n4g3pfee6491hc0brc4i.apps.googleusercontent.com&redirect_uri=urn%3Aietf%3Awg%3Aoauth%3A2.0%3Aoob&scope=email%20https%3A%2F%2Fwww.googleapis.com%2Fauth%2Fdocs.test%20https%3A%2F%2Fwww.googleapis.com%2Fauth%2Fdrive%20https%3A%2F%2Fwww.googleapis.com%2Fauth%2Fdrive.photos.readonly%20https%3A%2F%2Fwww.googleapis.com%2Fauth%2Fpeopleapi.readonly&response_type=code\n",
      "\n",
      "Enter your authorization code:\n",
      "··········\n",
      "Mounted at /content/drive/\n"
     ]
    }
   ],
   "source": [
    "drive.mount('/content/drive/')"
   ]
  },
  {
   "cell_type": "markdown",
   "metadata": {
    "colab_type": "text",
    "id": "bhZdJ4zpwWzN"
   },
   "source": [
    "#### Path for Project files on google drive\n",
    "\n",
    "**Note:** You need to change this path according where you have kept the files in google drive. "
   ]
  },
  {
   "cell_type": "code",
   "execution_count": 0,
   "metadata": {
    "colab": {},
    "colab_type": "code",
    "id": "Aol97RUogFuS"
   },
   "outputs": [],
   "source": [
    "project_path = \"/content/drive/My Drive/Fake News Challenge/\""
   ]
  },
  {
   "cell_type": "markdown",
   "metadata": {
    "colab_type": "text",
    "id": "2ly0VxAnwJ2f"
   },
   "source": [
    "### Loading the Glove Embeddings"
   ]
  },
  {
   "cell_type": "code",
   "execution_count": 0,
   "metadata": {
    "colab": {
     "base_uri": "https://localhost:8080/",
     "height": 51
    },
    "colab_type": "code",
    "id": "xmsPn6PF-cgL",
    "outputId": "ef7e0ae4-acc2-4f8e-dd35-83ef710955cb"
   },
   "outputs": [
    {
     "name": "stdout",
     "output_type": "stream",
     "text": [
      "drive\t\t   glove.6B.200d.txt  glove.6B.50d.txt\n",
      "glove.6B.100d.txt  glove.6B.300d.txt  sample_data\n"
     ]
    }
   ],
   "source": [
    "from zipfile import ZipFile\n",
    "with ZipFile(project_path+'glove.6B.zip', 'r') as z:\n",
    "  z.extractall()\n",
    "!ls  "
   ]
  },
  {
   "cell_type": "markdown",
   "metadata": {
    "colab_type": "text",
    "id": "TjLJEQ_PwcGi"
   },
   "source": [
    "### Load the dataset\n",
    "\n",
    "1. Using [read_csv()](https://pandas.pydata.org/pandas-docs/stable/generated/pandas.read_csv.html) in pandas load the given train datasets files **`train_bodies.csv`** and **`train_stances.csv`**\n",
    "\n",
    "2. Using [merge](https://pandas.pydata.org/pandas-docs/stable/generated/pandas.DataFrame.merge.html) command in pandas merge the two datasets based on the Body ID. \n",
    "\n",
    "Note: Save the final merged dataset in a dataframe with name **`dataset`**."
   ]
  },
  {
   "cell_type": "code",
   "execution_count": 0,
   "metadata": {
    "colab": {},
    "colab_type": "code",
    "id": "7gXO1WZ-gFwm"
   },
   "outputs": [],
   "source": [
    "import pandas as pd \n",
    "train_bodies = pd.read_csv(project_path + 'train_bodies.csv')\n",
    "train_stances = pd.read_csv(project_path + 'train_stances.csv')"
   ]
  },
  {
   "cell_type": "code",
   "execution_count": 0,
   "metadata": {
    "colab": {},
    "colab_type": "code",
    "id": "kosAWskdOOT8"
   },
   "outputs": [],
   "source": [
    "dataset = pd.merge(train_bodies,train_stances, on='Body ID')"
   ]
  },
  {
   "cell_type": "markdown",
   "metadata": {
    "colab_type": "text",
    "id": "g4ycQbBCg20S"
   },
   "source": [
    "\n",
    "<h2> Check1:</h2>\n",
    "  \n",
    "<h3> You should see the below output if you run `dataset.head()` command as given below </h3>"
   ]
  },
  {
   "cell_type": "code",
   "execution_count": 0,
   "metadata": {
    "colab": {
     "base_uri": "https://localhost:8080/",
     "height": 204
    },
    "colab_type": "code",
    "id": "IUtF7iOmj11k",
    "outputId": "c85f5aa1-6470-434d-b420-3becb91cc7ef"
   },
   "outputs": [
    {
     "data": {
      "text/html": [
       "<div>\n",
       "<style scoped>\n",
       "    .dataframe tbody tr th:only-of-type {\n",
       "        vertical-align: middle;\n",
       "    }\n",
       "\n",
       "    .dataframe tbody tr th {\n",
       "        vertical-align: top;\n",
       "    }\n",
       "\n",
       "    .dataframe thead th {\n",
       "        text-align: right;\n",
       "    }\n",
       "</style>\n",
       "<table border=\"1\" class=\"dataframe\">\n",
       "  <thead>\n",
       "    <tr style=\"text-align: right;\">\n",
       "      <th></th>\n",
       "      <th>Body ID</th>\n",
       "      <th>articleBody</th>\n",
       "      <th>Headline</th>\n",
       "      <th>Stance</th>\n",
       "    </tr>\n",
       "  </thead>\n",
       "  <tbody>\n",
       "    <tr>\n",
       "      <th>0</th>\n",
       "      <td>0</td>\n",
       "      <td>A small meteorite crashed into a wooded area i...</td>\n",
       "      <td>Soldier shot, Parliament locked down after gun...</td>\n",
       "      <td>unrelated</td>\n",
       "    </tr>\n",
       "    <tr>\n",
       "      <th>1</th>\n",
       "      <td>0</td>\n",
       "      <td>A small meteorite crashed into a wooded area i...</td>\n",
       "      <td>Tourist dubbed ‘Spider Man’ after spider burro...</td>\n",
       "      <td>unrelated</td>\n",
       "    </tr>\n",
       "    <tr>\n",
       "      <th>2</th>\n",
       "      <td>0</td>\n",
       "      <td>A small meteorite crashed into a wooded area i...</td>\n",
       "      <td>Luke Somers 'killed in failed rescue attempt i...</td>\n",
       "      <td>unrelated</td>\n",
       "    </tr>\n",
       "    <tr>\n",
       "      <th>3</th>\n",
       "      <td>0</td>\n",
       "      <td>A small meteorite crashed into a wooded area i...</td>\n",
       "      <td>BREAKING: Soldier shot at War Memorial in Ottawa</td>\n",
       "      <td>unrelated</td>\n",
       "    </tr>\n",
       "    <tr>\n",
       "      <th>4</th>\n",
       "      <td>0</td>\n",
       "      <td>A small meteorite crashed into a wooded area i...</td>\n",
       "      <td>Giant 8ft 9in catfish weighing 19 stone caught...</td>\n",
       "      <td>unrelated</td>\n",
       "    </tr>\n",
       "  </tbody>\n",
       "</table>\n",
       "</div>"
      ],
      "text/plain": [
       "   Body ID  ...     Stance\n",
       "0        0  ...  unrelated\n",
       "1        0  ...  unrelated\n",
       "2        0  ...  unrelated\n",
       "3        0  ...  unrelated\n",
       "4        0  ...  unrelated\n",
       "\n",
       "[5 rows x 4 columns]"
      ]
     },
     "execution_count": 19,
     "metadata": {
      "tags": []
     },
     "output_type": "execute_result"
    }
   ],
   "source": [
    "dataset.head()"
   ]
  },
  {
   "cell_type": "markdown",
   "metadata": {
    "colab_type": "text",
    "id": "tjzVz2ifijmj"
   },
   "source": [
    "## Step2: Data Pre-processing and setting some hyper parameters needed for model\n",
    "\n",
    "\n",
    "#### Run the code given below to set the required parameters.\n",
    "\n",
    "1. `MAX_SENTS` = Maximum no.of sentences to consider in an article.\n",
    "\n",
    "2. `MAX_SENT_LENGTH` = Maximum no.of words to consider in a sentence.\n",
    "\n",
    "3. `MAX_NB_WORDS` = Maximum no.of words in the total vocabualry.\n",
    "\n",
    "4. `MAX_SENTS_HEADING` = Maximum no.of sentences to consider in a heading of an article."
   ]
  },
  {
   "cell_type": "code",
   "execution_count": 0,
   "metadata": {
    "colab": {},
    "colab_type": "code",
    "id": "KDXSdpvqjuqw"
   },
   "outputs": [],
   "source": [
    "MAX_NB_WORDS = 20000\n",
    "MAX_SENTS = 20\n",
    "MAX_SENTS_HEADING = 1\n",
    "MAX_SENT_LENGTH = 20\n",
    "VALIDATION_SPLIT = 0.2"
   ]
  },
  {
   "cell_type": "markdown",
   "metadata": {
    "colab_type": "text",
    "id": "zwE7CPHdiDT-"
   },
   "source": [
    "### Download the `Punkt` from nltk using the commands given below. This is for sentence tokenization.\n",
    "\n",
    "For more info on how to use it, read [this](https://stackoverflow.com/questions/35275001/use-of-punktsentencetokenizer-in-nltk).\n",
    "\n"
   ]
  },
  {
   "cell_type": "code",
   "execution_count": 0,
   "metadata": {
    "colab": {
     "base_uri": "https://localhost:8080/",
     "height": 68
    },
    "colab_type": "code",
    "id": "lsiKmyJUZ-hU",
    "outputId": "a64063b5-5426-4d1c-84ad-9a0ed0bd03f7"
   },
   "outputs": [
    {
     "name": "stdout",
     "output_type": "stream",
     "text": [
      "[nltk_data] Downloading package punkt to /root/nltk_data...\n",
      "[nltk_data]   Package punkt is already up-to-date!\n"
     ]
    },
    {
     "data": {
      "text/plain": [
       "True"
      ]
     },
     "execution_count": 21,
     "metadata": {
      "tags": []
     },
     "output_type": "execute_result"
    }
   ],
   "source": [
    "import nltk\n",
    "nltk.download('punkt')"
   ]
  },
  {
   "cell_type": "markdown",
   "metadata": {
    "colab_type": "text",
    "id": "Gqwm_GbwwnhX"
   },
   "source": [
    "### Tokenizing the text and loading the pre-trained Glove word embeddings for each token <h1> [10 marks] </h1>"
   ]
  },
  {
   "cell_type": "markdown",
   "metadata": {
    "colab_type": "text",
    "id": "WfZLR24mm32k"
   },
   "source": [
    "Keras provides [Tokenizer API](https://keras.io/preprocessing/text/) for preparing text. Read it before going any further."
   ]
  },
  {
   "cell_type": "markdown",
   "metadata": {
    "colab_type": "text",
    "id": "fLSn9S-5oG4Z"
   },
   "source": [
    "#### Import the Tokenizer from keras preprocessing text"
   ]
  },
  {
   "cell_type": "code",
   "execution_count": 0,
   "metadata": {
    "colab": {},
    "colab_type": "code",
    "id": "S-VUgh2yoMlR"
   },
   "outputs": [],
   "source": [
    "from keras.preprocessing.text import Tokenizer"
   ]
  },
  {
   "cell_type": "markdown",
   "metadata": {
    "colab_type": "text",
    "id": "eml0Lge4oOuh"
   },
   "source": [
    "#### Initialize the Tokenizer class with maximum vocabulary count as `MAX_NB_WORDS` initialized at the start of step2. "
   ]
  },
  {
   "cell_type": "code",
   "execution_count": 0,
   "metadata": {
    "colab": {},
    "colab_type": "code",
    "id": "Qm85qirPofc2"
   },
   "outputs": [],
   "source": [
    "t = Tokenizer(num_words=MAX_NB_WORDS )"
   ]
  },
  {
   "cell_type": "markdown",
   "metadata": {
    "colab_type": "text",
    "id": "HBe1KuXDosJ7"
   },
   "source": [
    "#### Now, using fit_on_texts() from Tokenizer class, lets encode the data \n",
    "\n",
    "Note: We need to fit articleBody and Headline also to cover all the words."
   ]
  },
  {
   "cell_type": "code",
   "execution_count": 0,
   "metadata": {
    "colab": {
     "base_uri": "https://localhost:8080/",
     "height": 85
    },
    "colab_type": "code",
    "id": "Q5rk-UyBlmyA",
    "outputId": "e649a039-2038-485c-8147-88e7cdff3700"
   },
   "outputs": [
    {
     "name": "stdout",
     "output_type": "stream",
     "text": [
      "OrderedDict([('body', 1), ('id', 1), ('articlebody', 1), ('headline', 1), ('stance', 1)])\n",
      "defaultdict(<class 'int'>, {'body': 1, 'id': 1, 'articlebody': 1, 'headline': 1, 'stance': 1})\n",
      "{'body': 1, 'id': 2, 'articlebody': 3, 'headline': 4, 'stance': 5}\n",
      "4\n"
     ]
    }
   ],
   "source": [
    "t.fit_on_texts(dataset)\n",
    "print(t.word_counts)\n",
    "print(t.word_docs)\n",
    "print(t.word_index)\n",
    "print(t.document_count)"
   ]
  },
  {
   "cell_type": "markdown",
   "metadata": {
    "colab_type": "text",
    "id": "omptHX-JpBsN"
   },
   "source": [
    "#### fit_on_texts() gives the following attributes in the output as given [here](https://faroit.github.io/keras-docs/1.2.2/preprocessing/text/).\n",
    "\n",
    "* **word_counts:** dictionary mapping words (str) to the number of times they appeared on during fit. Only set after fit_on_texts was called.\n",
    "\n",
    "* **word_docs:** dictionary mapping words (str) to the number of documents/texts they appeared on during fit. Only set after fit_on_texts was called.\n",
    "\n",
    "* **word_index:** dictionary mapping words (str) to their rank/index (int). Only set after fit_on_texts was called.\n",
    "\n",
    "* **document_count:** int. Number of documents (texts/sequences) the tokenizer was trained on. Only set after fit_on_texts or fit_on_sequences was called.\n",
    "\n"
   ]
  },
  {
   "cell_type": "markdown",
   "metadata": {
    "colab_type": "text",
    "id": "SHnsT2sTtFAA"
   },
   "source": [
    "### Now, tokenize the sentences using nltk sent_tokenize() and encode the senteces with the ids we got form the above `t.word_index`\n",
    "\n",
    "Initialise 2 lists with names `texts` and `articles`.\n",
    "\n",
    "```\n",
    "texts = [] to store text of article as it is.\n",
    "\n",
    "articles = [] split the above text into a list of sentences.\n",
    "```"
   ]
  },
  {
   "cell_type": "code",
   "execution_count": 0,
   "metadata": {
    "colab": {},
    "colab_type": "code",
    "id": "ctEu-d4c4EZs"
   },
   "outputs": [],
   "source": [
    "texts = dataset['articleBody'].values\n",
    "from nltk.tokenize import sent_tokenize\n",
    "articles = []\n",
    "for i in range(texts.shape[0]):\n",
    "  tokenised_line = sent_tokenize(texts[i])\n",
    "  articles.append(tokenised_line)"
   ]
  },
  {
   "cell_type": "markdown",
   "metadata": {
    "colab_type": "text",
    "id": "koTVJjoO6P78"
   },
   "source": [
    "## Check 2:\n",
    "\n",
    "first element of texts and articles should be as given below. "
   ]
  },
  {
   "cell_type": "code",
   "execution_count": 0,
   "metadata": {
    "colab": {
     "base_uri": "https://localhost:8080/",
     "height": 54
    },
    "colab_type": "code",
    "id": "3mWBW99p5UW9",
    "outputId": "67c5b134-a61a-459f-c613-b99b9b256bec"
   },
   "outputs": [
    {
     "data": {
      "text/plain": [
       "'A small meteorite crashed into a wooded area in Nicaragua\\'s capital of Managua overnight, the government said Sunday. Residents reported hearing a mysterious boom that left a 16-foot deep crater near the city\\'s airport, the Associated Press reports. \\n\\nGovernment spokeswoman Rosario Murillo said a committee formed by the government to study the event determined it was a \"relatively small\" meteorite that \"appears to have come off an asteroid that was passing close to Earth.\" House-sized asteroid 2014 RC, which measured 60 feet in diameter, skimmed the Earth this weekend, ABC News reports. \\nMurillo said Nicaragua will ask international experts to help local scientists in understanding what happened.\\n\\nThe crater left by the meteorite had a radius of 39 feet and a depth of 16 feet,  said Humberto Saballos, a volcanologist with the Nicaraguan Institute of Territorial Studies who was on the committee. He said it is still not clear if the meteorite disintegrated or was buried.\\n\\nHumberto Garcia, of the Astronomy Center at the National Autonomous University of Nicaragua, said the meteorite could be related to an asteroid that was forecast to pass by the planet Saturday night.\\n\\n\"We have to study it more because it could be ice or rock,\" he said.\\n\\nWilfried Strauch, an adviser to the Institute of Territorial Studies, said it was \"very strange that no one reported a streak of light. We have to ask if anyone has a photo or something.\"\\n\\nLocal residents reported hearing a loud boom Saturday night, but said they didn\\'t see anything strange in the sky.\\n\\n\"I was sitting on my porch and I saw nothing, then all of a sudden I heard a large blast. We thought it was a bomb because we felt an expansive wave,\" Jorge Santamaria told The Associated Press.\\n\\nThe site of the crater is near Managua\\'s international airport and an air force base. Only journalists from state media were allowed to visit it.'"
      ]
     },
     "execution_count": 24,
     "metadata": {
      "tags": []
     },
     "output_type": "execute_result"
    }
   ],
   "source": [
    "texts[0]"
   ]
  },
  {
   "cell_type": "code",
   "execution_count": 0,
   "metadata": {
    "colab": {
     "base_uri": "https://localhost:8080/",
     "height": 309
    },
    "colab_type": "code",
    "id": "WtIjO3ht5EKA",
    "outputId": "eeaf9c79-0b3d-4931-b086-b298793c9877"
   },
   "outputs": [
    {
     "data": {
      "text/plain": [
       "[\"A small meteorite crashed into a wooded area in Nicaragua's capital of Managua overnight, the government said Sunday.\",\n",
       " \"Residents reported hearing a mysterious boom that left a 16-foot deep crater near the city's airport, the Associated Press reports.\",\n",
       " 'Government spokeswoman Rosario Murillo said a committee formed by the government to study the event determined it was a \"relatively small\" meteorite that \"appears to have come off an asteroid that was passing close to Earth.\"',\n",
       " 'House-sized asteroid 2014 RC, which measured 60 feet in diameter, skimmed the Earth this weekend, ABC News reports.',\n",
       " 'Murillo said Nicaragua will ask international experts to help local scientists in understanding what happened.',\n",
       " 'The crater left by the meteorite had a radius of 39 feet and a depth of 16 feet,  said Humberto Saballos, a volcanologist with the Nicaraguan Institute of Territorial Studies who was on the committee.',\n",
       " 'He said it is still not clear if the meteorite disintegrated or was buried.',\n",
       " 'Humberto Garcia, of the Astronomy Center at the National Autonomous University of Nicaragua, said the meteorite could be related to an asteroid that was forecast to pass by the planet Saturday night.',\n",
       " '\"We have to study it more because it could be ice or rock,\" he said.',\n",
       " 'Wilfried Strauch, an adviser to the Institute of Territorial Studies, said it was \"very strange that no one reported a streak of light.',\n",
       " 'We have to ask if anyone has a photo or something.\"',\n",
       " \"Local residents reported hearing a loud boom Saturday night, but said they didn't see anything strange in the sky.\",\n",
       " '\"I was sitting on my porch and I saw nothing, then all of a sudden I heard a large blast.',\n",
       " 'We thought it was a bomb because we felt an expansive wave,\" Jorge Santamaria told The Associated Press.',\n",
       " \"The site of the crater is near Managua's international airport and an air force base.\",\n",
       " 'Only journalists from state media were allowed to visit it.']"
      ]
     },
     "execution_count": 25,
     "metadata": {
      "tags": []
     },
     "output_type": "execute_result"
    }
   ],
   "source": [
    "articles[0]"
   ]
  },
  {
   "cell_type": "markdown",
   "metadata": {
    "colab_type": "text",
    "id": "eghvJHZSQOYY"
   },
   "source": [
    " ## <font color=red> Milestone - 2 </font>"
   ]
  },
  {
   "cell_type": "markdown",
   "metadata": {
    "colab_type": "text",
    "id": "fpuRIA7cCfcY"
   },
   "source": [
    "#### Now iterate through each article and each sentence to encode the words into ids using t.word_index <h1>[10 marks]</h1>\n",
    "\n",
    "Here, to get words from sentence you can use `text_to_word_sequence` from keras preprocessing text.\n",
    "\n",
    "1. Import text_to_word_sequence\n",
    "\n",
    "2. Initialize a variable of shape (no.of articles, MAX_SENTS, MAX_SENT_LENGTH) with name `data` with zeros first (you can use numpy [np.zeros](https://docs.scipy.org/doc/numpy/reference/generated/numpy.zeros.html) to initialize with all zeros)and then update it while iterating through the words and sentences in each article."
   ]
  },
  {
   "cell_type": "code",
   "execution_count": 0,
   "metadata": {
    "colab": {},
    "colab_type": "code",
    "id": "YVyClBULCqWj"
   },
   "outputs": [],
   "source": []
  },
  {
   "cell_type": "markdown",
   "metadata": {
    "colab_type": "text",
    "id": "bFdmiDYcE144"
   },
   "source": [
    "### Check 3:\n",
    "\n",
    "Accessing first element in data should give something like given below."
   ]
  },
  {
   "cell_type": "code",
   "execution_count": 0,
   "metadata": {
    "colab": {},
    "colab_type": "code",
    "id": "TsFWW5C2Djog"
   },
   "outputs": [],
   "source": [
    "data[0, :, :]"
   ]
  },
  {
   "cell_type": "markdown",
   "metadata": {
    "colab_type": "text",
    "id": "hTG6JySHehkT"
   },
   "source": [
    "### Repeat the same process for the `Headings` as well. Use variables with names `texts_heading` and `articles_heading` accordingly. <h1> [10 marks] </h1>"
   ]
  },
  {
   "cell_type": "code",
   "execution_count": 0,
   "metadata": {
    "colab": {},
    "colab_type": "code",
    "id": "_CliiIhLemJV"
   },
   "outputs": [],
   "source": []
  },
  {
   "cell_type": "markdown",
   "metadata": {
    "colab_type": "text",
    "id": "iaH0Ey1qe_Co"
   },
   "source": [
    "### Now the features are ready, lets make the labels ready for the model to process.\n",
    "\n",
    "### Convert labels into one-hot vectors\n",
    "\n",
    "You can use [get_dummies](https://pandas.pydata.org/pandas-docs/stable/generated/pandas.get_dummies.html) in pandas to create one-hot vectors."
   ]
  },
  {
   "cell_type": "code",
   "execution_count": 0,
   "metadata": {
    "colab": {},
    "colab_type": "code",
    "id": "Zq-VcgM8fat1"
   },
   "outputs": [],
   "source": []
  },
  {
   "cell_type": "markdown",
   "metadata": {
    "colab_type": "text",
    "id": "40mA8FI2fcxZ"
   },
   "source": [
    "### Check 4:\n",
    "\n",
    "The shape of data and labels shoould match the given below numbers."
   ]
  },
  {
   "cell_type": "code",
   "execution_count": 0,
   "metadata": {
    "colab": {},
    "colab_type": "code",
    "id": "vpEWEnjFfnFR"
   },
   "outputs": [],
   "source": [
    "print('Shape of data tensor:', data.shape)\n",
    "print('Shape of label tensor:', labels.shape)"
   ]
  },
  {
   "cell_type": "markdown",
   "metadata": {
    "colab_type": "text",
    "id": "sDOxHdR3frDu"
   },
   "source": [
    "### Shuffle the data"
   ]
  },
  {
   "cell_type": "code",
   "execution_count": 0,
   "metadata": {
    "colab": {},
    "colab_type": "code",
    "id": "-Ra-yYTvfzRt"
   },
   "outputs": [],
   "source": [
    "## get numbers upto no.of articles\n",
    "indices = np.arange(data.shape[0])\n",
    "## shuffle the numbers\n",
    "np.random.shuffle(indices)"
   ]
  },
  {
   "cell_type": "code",
   "execution_count": 0,
   "metadata": {
    "colab": {},
    "colab_type": "code",
    "id": "LKnSqwIFf3Iy"
   },
   "outputs": [],
   "source": [
    "## shuffle the data\n",
    "data = data[indices]\n",
    "data_heading = data_heading[indices]\n",
    "## shuffle the labels according to data\n",
    "labels = labels[indices]"
   ]
  },
  {
   "cell_type": "markdown",
   "metadata": {
    "colab_type": "text",
    "id": "JcOFVfPBf9kA"
   },
   "source": [
    "### Split into train and validation sets. Split the train set 80:20 ratio to get the train and validation sets.\n",
    "\n",
    "\n",
    "Use the variable names as given below:\n",
    "\n",
    "x_train, x_val - for body of articles.\n",
    "\n",
    "x_heading_train, x_heading_val - for heading of articles.\n",
    "\n",
    "y_train - for training labels.\n",
    "\n",
    "y_val - for validation labels.\n",
    "\n",
    "<h1> [10 marks] </h1>"
   ]
  },
  {
   "cell_type": "code",
   "execution_count": 0,
   "metadata": {
    "colab": {},
    "colab_type": "code",
    "id": "2neh9Wcof8iR"
   },
   "outputs": [],
   "source": []
  },
  {
   "cell_type": "code",
   "execution_count": 0,
   "metadata": {
    "colab": {},
    "colab_type": "code",
    "id": "o5u3PTz3gEV-"
   },
   "outputs": [],
   "source": []
  },
  {
   "cell_type": "markdown",
   "metadata": {
    "colab_type": "text",
    "id": "UTyvoHrsgMDw"
   },
   "source": [
    "### Check 5:\n",
    "\n",
    "The shape of x_train, x_val, y_train and y_val should match the below numbers."
   ]
  },
  {
   "cell_type": "code",
   "execution_count": 0,
   "metadata": {
    "colab": {},
    "colab_type": "code",
    "id": "KLEbiw2Yghe2"
   },
   "outputs": [],
   "source": [
    "print(x_train.shape)\n",
    "print(y_train.shape)\n",
    "\n",
    "print(x_val.shape)\n",
    "print(y_val.shape)"
   ]
  },
  {
   "cell_type": "markdown",
   "metadata": {
    "colab_type": "text",
    "id": "yNnoBtArhJ1E"
   },
   "source": [
    "### Create embedding matrix with the glove embeddings\n",
    "\n",
    "\n",
    "Run the below code to create embedding_matrix which has all the words and their glove embedding if present in glove word list."
   ]
  },
  {
   "cell_type": "code",
   "execution_count": 0,
   "metadata": {
    "colab": {},
    "colab_type": "code",
    "id": "eKqn2IL2ZF8v"
   },
   "outputs": [],
   "source": [
    "# load the whole embedding into memory\n",
    "embeddings_index = dict()\n",
    "f = open('./glove.6B.100d.txt')\n",
    "for line in f:\n",
    "\tvalues = line.split()\n",
    "\tword = values[0]\n",
    "\tcoefs = np.asarray(values[1:], dtype='float32')\n",
    "\tembeddings_index[word] = coefs\n",
    "f.close()\n",
    "print('Loaded %s word vectors.' % len(embeddings_index))\n",
    "\n",
    "# create a weight matrix for words in training docs\n",
    "embedding_matrix = np.zeros((vocab_size, 100))\n",
    "\n",
    "\n",
    "for word, i in t.word_index.items():\n",
    "\tembedding_vector = embeddings_index.get(word)\n",
    "\tif embedding_vector is not None:\n",
    "\t\tembedding_matrix[i] = embedding_vector"
   ]
  },
  {
   "cell_type": "markdown",
   "metadata": {
    "colab_type": "text",
    "id": "d0KYP6pfQW9E"
   },
   "source": [
    " ## <font color=red> Milestone - 3 </font>"
   ]
  },
  {
   "cell_type": "markdown",
   "metadata": {
    "colab_type": "text",
    "id": "LRi4o3ZspDFU"
   },
   "source": [
    "## Try different sequential models and report accuracy scores for each model.\n",
    "\n",
    "<h1>[50 marks]  </h1>"
   ]
  },
  {
   "cell_type": "markdown",
   "metadata": {
    "colab_type": "text",
    "id": "zSZDnPWkw2ZZ"
   },
   "source": [
    "### Import layers from Keras to build the model"
   ]
  },
  {
   "cell_type": "code",
   "execution_count": 0,
   "metadata": {
    "colab": {},
    "colab_type": "code",
    "id": "5AgwQsfMrzAQ"
   },
   "outputs": [],
   "source": []
  },
  {
   "cell_type": "markdown",
   "metadata": {
    "colab_type": "text",
    "id": "gpkVhIbx3gr1"
   },
   "source": [
    "### Model"
   ]
  },
  {
   "cell_type": "code",
   "execution_count": 0,
   "metadata": {
    "colab": {},
    "colab_type": "code",
    "id": "G_8QXh-rmPFq"
   },
   "outputs": [],
   "source": []
  },
  {
   "cell_type": "markdown",
   "metadata": {
    "colab_type": "text",
    "id": "C5Xrd-JQ3id7"
   },
   "source": [
    "### Compile and fit the model"
   ]
  },
  {
   "cell_type": "code",
   "execution_count": 0,
   "metadata": {
    "colab": {},
    "colab_type": "code",
    "id": "MlduHU2CovxC"
   },
   "outputs": [],
   "source": []
  },
  {
   "cell_type": "code",
   "execution_count": 0,
   "metadata": {
    "colab": {},
    "colab_type": "code",
    "id": "CM3yCmjQoCM3"
   },
   "outputs": [],
   "source": []
  }
 ],
 "metadata": {
  "accelerator": "GPU",
  "colab": {
   "collapsed_sections": [],
   "name": "AnupriyaRamachandran_DLCP_Project3_Milestone1.ipynb",
   "provenance": [],
   "toc_visible": true,
   "version": "0.3.2"
  },
  "kernelspec": {
   "display_name": "Python 3",
   "language": "python",
   "name": "python3"
  },
  "language_info": {
   "codemirror_mode": {
    "name": "ipython",
    "version": 3
   },
   "file_extension": ".py",
   "mimetype": "text/x-python",
   "name": "python",
   "nbconvert_exporter": "python",
   "pygments_lexer": "ipython3",
   "version": "3.7.3"
  }
 },
 "nbformat": 4,
 "nbformat_minor": 1
}
