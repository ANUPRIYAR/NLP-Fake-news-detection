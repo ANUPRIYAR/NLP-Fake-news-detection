{
 "cells": [
  {
   "cell_type": "markdown",
   "metadata": {
    "colab_type": "text",
    "id": "QI9jhXKPCFcJ"
   },
   "source": [
    "# Stance Detection for the Fake News Challenge\n",
    "\n",
    "## Identifying Textual Relationships with Deep Neural Nets\n"
   ]
  },
  {
   "cell_type": "markdown",
   "metadata": {
    "colab_type": "text",
    "id": "vSNgdEMpenpE"
   },
   "source": [
    "## Step1: Load the given dataset \n",
    "\n",
    "1. Mount the google drive\n",
    "\n",
    "2. Import Glove embeddings\n",
    "\n",
    "3. Import the test and train datasets"
   ]
  },
  {
   "cell_type": "markdown",
   "metadata": {
    "colab_type": "text",
    "id": "aPOZRohMiSpQ"
   },
   "source": [
    "### Mount the google drive to access required project files\n",
    "\n",
    "Run the below commands"
   ]
  },
  {
   "cell_type": "code",
   "execution_count": 0,
   "metadata": {
    "colab": {},
    "colab_type": "code",
    "id": "7AS39z1XgFpT"
   },
   "outputs": [],
   "source": [
    "from google.colab import drive"
   ]
  },
  {
   "cell_type": "code",
   "execution_count": 0,
   "metadata": {
    "colab": {
     "base_uri": "https://localhost:8080/",
     "height": 34
    },
    "colab_type": "code",
    "id": "S_7yCFdzgFsH",
    "outputId": "a9ad8537-ace4-46a5-db6c-9579d820d443"
   },
   "outputs": [
    {
     "name": "stdout",
     "output_type": "stream",
     "text": [
      "Drive already mounted at /content/drive/; to attempt to forcibly remount, call drive.mount(\"/content/drive/\", force_remount=True).\n"
     ]
    }
   ],
   "source": [
    "drive.mount('/content/drive/')"
   ]
  },
  {
   "cell_type": "markdown",
   "metadata": {
    "colab_type": "text",
    "id": "bhZdJ4zpwWzN"
   },
   "source": [
    "#### Path for Project files on google drive\n",
    "\n"
   ]
  },
  {
   "cell_type": "code",
   "execution_count": 0,
   "metadata": {
    "colab": {},
    "colab_type": "code",
    "id": "Aol97RUogFuS"
   },
   "outputs": [],
   "source": [
    "project_path = \"/content/drive/My Drive/Fake News Challenge/\""
   ]
  },
  {
   "cell_type": "markdown",
   "metadata": {
    "colab_type": "text",
    "id": "2ly0VxAnwJ2f"
   },
   "source": [
    "### Loading the Glove Embeddings"
   ]
  },
  {
   "cell_type": "code",
   "execution_count": 0,
   "metadata": {
    "colab": {
     "base_uri": "https://localhost:8080/",
     "height": 51
    },
    "colab_type": "code",
    "id": "xmsPn6PF-cgL",
    "outputId": "671eb869-0e3a-4913-88fa-9e31ff00ca76"
   },
   "outputs": [
    {
     "name": "stdout",
     "output_type": "stream",
     "text": [
      "drive\t\t   glove.6B.200d.txt  glove.6B.50d.txt\n",
      "glove.6B.100d.txt  glove.6B.300d.txt  sample_data\n"
     ]
    }
   ],
   "source": [
    "from zipfile import ZipFile\n",
    "with ZipFile(project_path+'glove.6B.zip', 'r') as z:\n",
    "  z.extractall()\n",
    "!ls  "
   ]
  },
  {
   "cell_type": "markdown",
   "metadata": {
    "colab_type": "text",
    "id": "TjLJEQ_PwcGi"
   },
   "source": [
    "### Load the dataset\n",
    "\n",
    "1. Using [read_csv()](https://pandas.pydata.org/pandas-docs/stable/generated/pandas.read_csv.html) in pandas load the given train datasets files **`train_bodies.csv`** and **`train_stances.csv`**\n",
    "\n",
    "2. Using [merge](https://pandas.pydata.org/pandas-docs/stable/generated/pandas.DataFrame.merge.html) command in pandas merge the two datasets based on the Body ID. \n",
    "\n",
    "Note: Save the final merged dataset in a dataframe with name **`dataset`**."
   ]
  },
  {
   "cell_type": "code",
   "execution_count": 0,
   "metadata": {
    "colab": {},
    "colab_type": "code",
    "id": "7gXO1WZ-gFwm"
   },
   "outputs": [],
   "source": [
    "import pandas as pd \n",
    "train_bodies = pd.read_csv(project_path + 'train_bodies.csv')\n",
    "train_stances = pd.read_csv(project_path + 'train_stances.csv')"
   ]
  },
  {
   "cell_type": "code",
   "execution_count": 0,
   "metadata": {
    "colab": {},
    "colab_type": "code",
    "id": "kosAWskdOOT8"
   },
   "outputs": [],
   "source": [
    "dataset = pd.merge(train_bodies,train_stances, on='Body ID')"
   ]
  },
  {
   "cell_type": "code",
   "execution_count": 0,
   "metadata": {
    "colab": {
     "base_uri": "https://localhost:8080/",
     "height": 204
    },
    "colab_type": "code",
    "id": "IUtF7iOmj11k",
    "outputId": "9bcdcc08-30a6-49d0-a459-3ad417659338"
   },
   "outputs": [
    {
     "data": {
      "text/html": [
       "<div>\n",
       "<style scoped>\n",
       "    .dataframe tbody tr th:only-of-type {\n",
       "        vertical-align: middle;\n",
       "    }\n",
       "\n",
       "    .dataframe tbody tr th {\n",
       "        vertical-align: top;\n",
       "    }\n",
       "\n",
       "    .dataframe thead th {\n",
       "        text-align: right;\n",
       "    }\n",
       "</style>\n",
       "<table border=\"1\" class=\"dataframe\">\n",
       "  <thead>\n",
       "    <tr style=\"text-align: right;\">\n",
       "      <th></th>\n",
       "      <th>Body ID</th>\n",
       "      <th>articleBody</th>\n",
       "      <th>Headline</th>\n",
       "      <th>Stance</th>\n",
       "    </tr>\n",
       "  </thead>\n",
       "  <tbody>\n",
       "    <tr>\n",
       "      <th>0</th>\n",
       "      <td>0</td>\n",
       "      <td>A small meteorite crashed into a wooded area i...</td>\n",
       "      <td>Soldier shot, Parliament locked down after gun...</td>\n",
       "      <td>unrelated</td>\n",
       "    </tr>\n",
       "    <tr>\n",
       "      <th>1</th>\n",
       "      <td>0</td>\n",
       "      <td>A small meteorite crashed into a wooded area i...</td>\n",
       "      <td>Tourist dubbed ‘Spider Man’ after spider burro...</td>\n",
       "      <td>unrelated</td>\n",
       "    </tr>\n",
       "    <tr>\n",
       "      <th>2</th>\n",
       "      <td>0</td>\n",
       "      <td>A small meteorite crashed into a wooded area i...</td>\n",
       "      <td>Luke Somers 'killed in failed rescue attempt i...</td>\n",
       "      <td>unrelated</td>\n",
       "    </tr>\n",
       "    <tr>\n",
       "      <th>3</th>\n",
       "      <td>0</td>\n",
       "      <td>A small meteorite crashed into a wooded area i...</td>\n",
       "      <td>BREAKING: Soldier shot at War Memorial in Ottawa</td>\n",
       "      <td>unrelated</td>\n",
       "    </tr>\n",
       "    <tr>\n",
       "      <th>4</th>\n",
       "      <td>0</td>\n",
       "      <td>A small meteorite crashed into a wooded area i...</td>\n",
       "      <td>Giant 8ft 9in catfish weighing 19 stone caught...</td>\n",
       "      <td>unrelated</td>\n",
       "    </tr>\n",
       "  </tbody>\n",
       "</table>\n",
       "</div>"
      ],
      "text/plain": [
       "   Body ID  ...     Stance\n",
       "0        0  ...  unrelated\n",
       "1        0  ...  unrelated\n",
       "2        0  ...  unrelated\n",
       "3        0  ...  unrelated\n",
       "4        0  ...  unrelated\n",
       "\n",
       "[5 rows x 4 columns]"
      ]
     },
     "execution_count": 21,
     "metadata": {
      "tags": []
     },
     "output_type": "execute_result"
    }
   ],
   "source": [
    "dataset.head()"
   ]
  },
  {
   "cell_type": "markdown",
   "metadata": {
    "colab_type": "text",
    "id": "tjzVz2ifijmj"
   },
   "source": [
    "## Step2: Data Pre-processing and setting some hyper parameters needed for model\n",
    "\n",
    "\n",
    "#### Set the required parameters.\n",
    "\n",
    "1. `MAX_SENTS` = Maximum no.of sentences to consider in an article.\n",
    "\n",
    "2. `MAX_SENT_LENGTH` = Maximum no.of words to consider in a sentence.\n",
    "\n",
    "3. `MAX_NB_WORDS` = Maximum no.of words in the total vocabualry.\n",
    "\n",
    "4. `MAX_SENTS_HEADING` = Maximum no.of sentences to consider in a heading of an article."
   ]
  },
  {
   "cell_type": "code",
   "execution_count": 0,
   "metadata": {
    "colab": {},
    "colab_type": "code",
    "id": "KDXSdpvqjuqw"
   },
   "outputs": [],
   "source": [
    "MAX_NB_WORDS = 20000\n",
    "MAX_SENTS = 20\n",
    "MAX_SENTS_HEADING = 1\n",
    "MAX_SENT_LENGTH = 20\n",
    "VALIDATION_SPLIT = 0.2"
   ]
  },
  {
   "cell_type": "markdown",
   "metadata": {
    "colab_type": "text",
    "id": "zwE7CPHdiDT-"
   },
   "source": [
    "### Download the `Punkt` from nltk using the commands given below. This is for sentence tokenization.\n",
    "\n",
    "For more info on how to use it, read [this](https://stackoverflow.com/questions/35275001/use-of-punktsentencetokenizer-in-nltk).\n",
    "\n"
   ]
  },
  {
   "cell_type": "code",
   "execution_count": 0,
   "metadata": {
    "colab": {
     "base_uri": "https://localhost:8080/",
     "height": 68
    },
    "colab_type": "code",
    "id": "lsiKmyJUZ-hU",
    "outputId": "a497faa8-b555-42a4-dd87-33c408ad448b"
   },
   "outputs": [
    {
     "name": "stdout",
     "output_type": "stream",
     "text": [
      "[nltk_data] Downloading package punkt to /root/nltk_data...\n",
      "[nltk_data]   Package punkt is already up-to-date!\n"
     ]
    },
    {
     "data": {
      "text/plain": [
       "True"
      ]
     },
     "execution_count": 23,
     "metadata": {
      "tags": []
     },
     "output_type": "execute_result"
    }
   ],
   "source": [
    "import nltk\n",
    "nltk.download('punkt')"
   ]
  },
  {
   "cell_type": "markdown",
   "metadata": {
    "colab_type": "text",
    "id": "Gqwm_GbwwnhX"
   },
   "source": [
    "### Tokenizing the text and loading the pre-trained Glove word embeddings for each token"
   ]
  },
  {
   "cell_type": "markdown",
   "metadata": {
    "colab_type": "text",
    "id": "WfZLR24mm32k"
   },
   "source": [
    "Keras provides [Tokenizer API](https://keras.io/preprocessing/text/) for preparing text. "
   ]
  },
  {
   "cell_type": "markdown",
   "metadata": {
    "colab_type": "text",
    "id": "fLSn9S-5oG4Z"
   },
   "source": [
    "#### Import the Tokenizer from keras preprocessing text"
   ]
  },
  {
   "cell_type": "code",
   "execution_count": 0,
   "metadata": {
    "colab": {},
    "colab_type": "code",
    "id": "S-VUgh2yoMlR"
   },
   "outputs": [],
   "source": [
    "from keras.preprocessing.text import Tokenizer"
   ]
  },
  {
   "cell_type": "markdown",
   "metadata": {
    "colab_type": "text",
    "id": "eml0Lge4oOuh"
   },
   "source": [
    "#### Initialize the Tokenizer class with maximum vocabulary count as `MAX_NB_WORDS` initialized at the start of step2. "
   ]
  },
  {
   "cell_type": "code",
   "execution_count": 0,
   "metadata": {
    "colab": {},
    "colab_type": "code",
    "id": "Qm85qirPofc2"
   },
   "outputs": [],
   "source": [
    "t = Tokenizer(num_words=MAX_NB_WORDS )"
   ]
  },
  {
   "cell_type": "markdown",
   "metadata": {
    "colab_type": "text",
    "id": "HBe1KuXDosJ7"
   },
   "source": [
    "#### Now, using fit_on_texts() from Tokenizer class, lets encode the data \n",
    "\n",
    "Note: We need to fit articleBody and Headline also to cover all the words."
   ]
  },
  {
   "cell_type": "code",
   "execution_count": 0,
   "metadata": {
    "colab": {
     "base_uri": "https://localhost:8080/",
     "height": 85
    },
    "colab_type": "code",
    "id": "Q5rk-UyBlmyA",
    "outputId": "ba2638cc-b0a7-4911-e11c-2e16809cddc0"
   },
   "outputs": [
    {
     "name": "stdout",
     "output_type": "stream",
     "text": [
      "OrderedDict([('body', 1), ('id', 1), ('articlebody', 1), ('headline', 1), ('stance', 1)])\n",
      "defaultdict(<class 'int'>, {'body': 1, 'id': 1, 'articlebody': 1, 'headline': 1, 'stance': 1})\n",
      "{'body': 1, 'id': 2, 'articlebody': 3, 'headline': 4, 'stance': 5}\n",
      "4\n"
     ]
    }
   ],
   "source": [
    "t.fit_on_texts(dataset)\n",
    "print(t.word_counts)\n",
    "print(t.word_docs)\n",
    "print(t.word_index)\n",
    "print(t.document_count)"
   ]
  },
  {
   "cell_type": "markdown",
   "metadata": {
    "colab_type": "text",
    "id": "omptHX-JpBsN"
   },
   "source": [
    "#### fit_on_texts() gives the following attributes in the output as given [here](https://faroit.github.io/keras-docs/1.2.2/preprocessing/text/).\n",
    "\n",
    "* **word_counts:** dictionary mapping words (str) to the number of times they appeared on during fit. Only set after fit_on_texts was called.\n",
    "\n",
    "* **word_docs:** dictionary mapping words (str) to the number of documents/texts they appeared on during fit. Only set after fit_on_texts was called.\n",
    "\n",
    "* **word_index:** dictionary mapping words (str) to their rank/index (int). Only set after fit_on_texts was called.\n",
    "\n",
    "* **document_count:** int. Number of documents (texts/sequences) the tokenizer was trained on. Only set after fit_on_texts or fit_on_sequences was called.\n",
    "\n"
   ]
  },
  {
   "cell_type": "markdown",
   "metadata": {
    "colab_type": "text",
    "id": "SHnsT2sTtFAA"
   },
   "source": [
    "### Now, tokenize the sentences using nltk sent_tokenize() and encode the senteces with the ids we got form the above `t.word_index`\n",
    "\n",
    "Initialise 2 lists with names `texts` and `articles`.\n",
    "\n",
    "```\n",
    "texts = [] to store text of article as it is.\n",
    "\n",
    "articles = [] split the above text into a list of sentences.\n",
    "```"
   ]
  },
  {
   "cell_type": "code",
   "execution_count": 0,
   "metadata": {
    "colab": {},
    "colab_type": "code",
    "id": "ctEu-d4c4EZs"
   },
   "outputs": [],
   "source": [
    "texts = dataset['articleBody'].values\n",
    "from nltk.tokenize import sent_tokenize\n",
    "articles = []\n",
    "for i in range(texts.shape[0]):\n",
    "  tokenised_line = sent_tokenize(texts[i])\n",
    "  articles.append(tokenised_line)"
   ]
  },
  {
   "cell_type": "markdown",
   "metadata": {
    "colab_type": "text",
    "id": "koTVJjoO6P78"
   },
   "source": [
    "## Check 2:\n",
    "\n",
    "first element of texts and articles should be as given below. "
   ]
  },
  {
   "cell_type": "code",
   "execution_count": 0,
   "metadata": {
    "colab": {
     "base_uri": "https://localhost:8080/",
     "height": 54
    },
    "colab_type": "code",
    "id": "3mWBW99p5UW9",
    "outputId": "01693204-d950-4899-bedd-8267d47b298e"
   },
   "outputs": [
    {
     "data": {
      "text/plain": [
       "'A small meteorite crashed into a wooded area in Nicaragua\\'s capital of Managua overnight, the government said Sunday. Residents reported hearing a mysterious boom that left a 16-foot deep crater near the city\\'s airport, the Associated Press reports. \\n\\nGovernment spokeswoman Rosario Murillo said a committee formed by the government to study the event determined it was a \"relatively small\" meteorite that \"appears to have come off an asteroid that was passing close to Earth.\" House-sized asteroid 2014 RC, which measured 60 feet in diameter, skimmed the Earth this weekend, ABC News reports. \\nMurillo said Nicaragua will ask international experts to help local scientists in understanding what happened.\\n\\nThe crater left by the meteorite had a radius of 39 feet and a depth of 16 feet,  said Humberto Saballos, a volcanologist with the Nicaraguan Institute of Territorial Studies who was on the committee. He said it is still not clear if the meteorite disintegrated or was buried.\\n\\nHumberto Garcia, of the Astronomy Center at the National Autonomous University of Nicaragua, said the meteorite could be related to an asteroid that was forecast to pass by the planet Saturday night.\\n\\n\"We have to study it more because it could be ice or rock,\" he said.\\n\\nWilfried Strauch, an adviser to the Institute of Territorial Studies, said it was \"very strange that no one reported a streak of light. We have to ask if anyone has a photo or something.\"\\n\\nLocal residents reported hearing a loud boom Saturday night, but said they didn\\'t see anything strange in the sky.\\n\\n\"I was sitting on my porch and I saw nothing, then all of a sudden I heard a large blast. We thought it was a bomb because we felt an expansive wave,\" Jorge Santamaria told The Associated Press.\\n\\nThe site of the crater is near Managua\\'s international airport and an air force base. Only journalists from state media were allowed to visit it.'"
      ]
     },
     "execution_count": 28,
     "metadata": {
      "tags": []
     },
     "output_type": "execute_result"
    }
   ],
   "source": [
    "texts[0]"
   ]
  },
  {
   "cell_type": "code",
   "execution_count": 0,
   "metadata": {
    "colab": {
     "base_uri": "https://localhost:8080/",
     "height": 309
    },
    "colab_type": "code",
    "id": "WtIjO3ht5EKA",
    "outputId": "117b2070-2002-4a0a-a6b3-634ca993347e"
   },
   "outputs": [
    {
     "data": {
      "text/plain": [
       "[\"A small meteorite crashed into a wooded area in Nicaragua's capital of Managua overnight, the government said Sunday.\",\n",
       " \"Residents reported hearing a mysterious boom that left a 16-foot deep crater near the city's airport, the Associated Press reports.\",\n",
       " 'Government spokeswoman Rosario Murillo said a committee formed by the government to study the event determined it was a \"relatively small\" meteorite that \"appears to have come off an asteroid that was passing close to Earth.\"',\n",
       " 'House-sized asteroid 2014 RC, which measured 60 feet in diameter, skimmed the Earth this weekend, ABC News reports.',\n",
       " 'Murillo said Nicaragua will ask international experts to help local scientists in understanding what happened.',\n",
       " 'The crater left by the meteorite had a radius of 39 feet and a depth of 16 feet,  said Humberto Saballos, a volcanologist with the Nicaraguan Institute of Territorial Studies who was on the committee.',\n",
       " 'He said it is still not clear if the meteorite disintegrated or was buried.',\n",
       " 'Humberto Garcia, of the Astronomy Center at the National Autonomous University of Nicaragua, said the meteorite could be related to an asteroid that was forecast to pass by the planet Saturday night.',\n",
       " '\"We have to study it more because it could be ice or rock,\" he said.',\n",
       " 'Wilfried Strauch, an adviser to the Institute of Territorial Studies, said it was \"very strange that no one reported a streak of light.',\n",
       " 'We have to ask if anyone has a photo or something.\"',\n",
       " \"Local residents reported hearing a loud boom Saturday night, but said they didn't see anything strange in the sky.\",\n",
       " '\"I was sitting on my porch and I saw nothing, then all of a sudden I heard a large blast.',\n",
       " 'We thought it was a bomb because we felt an expansive wave,\" Jorge Santamaria told The Associated Press.',\n",
       " \"The site of the crater is near Managua's international airport and an air force base.\",\n",
       " 'Only journalists from state media were allowed to visit it.']"
      ]
     },
     "execution_count": 29,
     "metadata": {
      "tags": []
     },
     "output_type": "execute_result"
    }
   ],
   "source": [
    "articles[0]"
   ]
  },
  {
   "cell_type": "markdown",
   "metadata": {
    "colab_type": "text",
    "id": "fpuRIA7cCfcY"
   },
   "source": [
    "#### Now iterate through each article and each sentence to encode the words into ids using t.word_index\n",
    "\n",
    "Here, to get words from sentence you can use `text_to_word_sequence` from keras preprocessing text.\n",
    "\n",
    "1. Import text_to_word_sequence\n",
    "\n",
    "2. Initialize a variable of shape (no.of articles, MAX_SENTS, MAX_SENT_LENGTH) with name `data` with zeros first (you can use numpy [np.zeros](https://docs.scipy.org/doc/numpy/reference/generated/numpy.zeros.html) to initialize with all zeros)and then update it while iterating through the words and sentences in each article."
   ]
  },
  {
   "cell_type": "code",
   "execution_count": 0,
   "metadata": {
    "colab": {
     "base_uri": "https://localhost:8080/",
     "height": 51
    },
    "colab_type": "code",
    "id": "YVyClBULCqWj",
    "outputId": "b677029c-7b57-4463-db80-302f19dd28b2"
   },
   "outputs": [
    {
     "name": "stdout",
     "output_type": "stream",
     "text": [
      "2886\n",
      "27427\n"
     ]
    }
   ],
   "source": [
    "from keras.preprocessing.text import text_to_word_sequence\n",
    "import numpy as np\n",
    "data = np.zeros((texts.shape[0],MAX_SENTS , MAX_SENT_LENGTH ), dtype='int32')\n",
    "# print(data[0][0][0])\n",
    "articles =  np.asarray(articles)\n",
    "\n",
    "\n",
    "tokenizer = Tokenizer(num_words=MAX_NB_WORDS )\n",
    "tokenizer.fit_on_texts(texts)\n",
    "print(tokenizer.word_index['overnight'])\n",
    "\n",
    "\n",
    "for i, sentences in enumerate(articles):\n",
    "  for j, line in enumerate(sentences):\n",
    "    if j < MAX_SENTS:\n",
    "      tokens = text_to_word_sequence(line)\n",
    "      k=0\n",
    "      for _, word in enumerate(tokens):        \n",
    "        if k < MAX_SENT_LENGTH and tokenizer.word_index[word] < MAX_NB_WORDS:          \n",
    "          data[i,j, k] = tokenizer.word_index[word]\n",
    "          k = k + 1\n",
    "      \n",
    "      \n",
    "word_index = tokenizer.word_index    \n",
    "print(len(word_index))\n",
    "\n",
    "\n",
    "  "
   ]
  },
  {
   "cell_type": "markdown",
   "metadata": {
    "colab_type": "text",
    "id": "bFdmiDYcE144"
   },
   "source": [
    "### Check 3:\n",
    "\n",
    "Accessing first element in data should give something like given below."
   ]
  },
  {
   "cell_type": "code",
   "execution_count": 0,
   "metadata": {
    "colab": {
     "base_uri": "https://localhost:8080/",
     "height": 1037
    },
    "colab_type": "code",
    "id": "TsFWW5C2Djog",
    "outputId": "cb58ec34-d041-444a-c141-beef0a502284"
   },
   "outputs": [
    {
     "data": {
      "text/plain": [
       "array([[    3,   500,   532,  7117,    79,     3,  3664,   318,     5,\n",
       "         4576,   369,     4,  1668,  2886,     1,    88,    12,   444,\n",
       "            0,     0],\n",
       "       [  727,    94,  1032,     3,  2963,  1778,     7,   171,     3,\n",
       "         1223,  1095,  2062,   779,   154,     1,  2959,   471,     1,\n",
       "          533,   227],\n",
       "       [   88,  1033,  4027,  2275,    12,     3,  1052,  3220,    19,\n",
       "            1,    88,     2,  1725,     1,   514,  1956,    15,     9,\n",
       "            3,  3035],\n",
       "       [  174,  3773,   980,   191,  2487,    42,  6689,  1665,  1210,\n",
       "            5, 13146, 17648,     1,   751,    30,   712,  3901,    66,\n",
       "           92,     0],\n",
       "       [ 2275,    12,  2316,    38,  1058,   337,   816,     2,   359,\n",
       "          255,  1796,     5,  4371,    67,   478,     0,     0,     0,\n",
       "            0,     0],\n",
       "       [    1,   779,   171,    19,     1,   532,    31,     3,  7312,\n",
       "            4,  2099,  1210,     6,     3,  5172,     4,  1223,  1210,\n",
       "           12,  3280],\n",
       "       [   13,    12,    15,     8,   142,    25,   521,    64,     1,\n",
       "          532,  3656,    41,     9,  1808,     0,     0,     0,     0,\n",
       "            0,     0],\n",
       "       [ 3280,  5634,     4,     1,  5778,   617,    22,     1,   302,\n",
       "         3351,   770,     4,  2316,    12,     1,   532,    68,    23,\n",
       "          744,     2],\n",
       "       [   37,    17,     2,  1725,    15,    52,   117,    15,    68,\n",
       "           23,  4830,    41,  1951,    13,    12,     0,     0,     0,\n",
       "            0,     0],\n",
       "       [ 4647,  3257,    24,  3881,     2,     1,  1273,     4,  2996,\n",
       "         1593,    12,    15,     9,   181,  1435,     7,    58,    40,\n",
       "           94,     3],\n",
       "       [   37,    17,     2,  1058,    64,   491,    20,     3,   251,\n",
       "           41,   256,     0,     0,     0,     0,     0,     0,     0,\n",
       "            0,     0],\n",
       "       [  255,   727,    94,  1032,     3,  1740,  1778,   513,   270,\n",
       "           29,    12,    33,   710,   156,   855,  1435,     5,     1,\n",
       "         2058,     0],\n",
       "       [   35,     9,  2008,    10,   114,  5726,     6,    35,   559,\n",
       "          639,   102,    57,     4,     3,  2350,    35,   235,     3,\n",
       "          499,  1970],\n",
       "       [   37,   333,    15,     9,     3,  2023,   117,    37,   859,\n",
       "           24,  4372,  2506,  4223,  4831,    54,     1,   533,   227,\n",
       "            0,     0],\n",
       "       [    1,   249,     4,     1,   779,     8,   154,  4282,   337,\n",
       "          471,     6,    24,   153,   455,  1883,     0,     0,     0,\n",
       "            0,     0],\n",
       "       [  123,   881,    21,    49,   103,    36,  1785,     2,  1172,\n",
       "           15,     0,     0,     0,     0,     0,     0,     0,     0,\n",
       "            0,     0],\n",
       "       [    0,     0,     0,     0,     0,     0,     0,     0,     0,\n",
       "            0,     0,     0,     0,     0,     0,     0,     0,     0,\n",
       "            0,     0],\n",
       "       [    0,     0,     0,     0,     0,     0,     0,     0,     0,\n",
       "            0,     0,     0,     0,     0,     0,     0,     0,     0,\n",
       "            0,     0],\n",
       "       [    0,     0,     0,     0,     0,     0,     0,     0,     0,\n",
       "            0,     0,     0,     0,     0,     0,     0,     0,     0,\n",
       "            0,     0],\n",
       "       [    0,     0,     0,     0,     0,     0,     0,     0,     0,\n",
       "            0,     0,     0,     0,     0,     0,     0,     0,     0,\n",
       "            0,     0]], dtype=int32)"
      ]
     },
     "execution_count": 31,
     "metadata": {
      "tags": []
     },
     "output_type": "execute_result"
    }
   ],
   "source": [
    "data[0, :, :]"
   ]
  },
  {
   "cell_type": "markdown",
   "metadata": {
    "colab_type": "text",
    "id": "hTG6JySHehkT"
   },
   "source": [
    "### Repeat the same process for the `Headings` as well. Use variables with names `texts_heading` and `articles_heading` accordingly. "
   ]
  },
  {
   "cell_type": "code",
   "execution_count": 0,
   "metadata": {
    "colab": {},
    "colab_type": "code",
    "id": "_CliiIhLemJV"
   },
   "outputs": [],
   "source": [
    "texts_heading = dataset['Headline'].values\n",
    "from nltk.tokenize import sent_tokenize\n",
    "\n",
    "articles_heading = []\n",
    "for i in range(texts_heading.shape[0]):\n",
    "    tokenised_line = sent_tokenize(texts_heading[i])\n",
    "    articles_heading.append(tokenised_line)\n",
    "texts_heading[0]\n",
    "\n",
    "from keras.preprocessing.text import text_to_word_sequence\n",
    "import numpy as np\n",
    "\n",
    "data_heading = np.zeros((texts_heading.shape[0], MAX_SENTS, MAX_SENT_LENGTH),\n",
    "                        dtype='int32')\n",
    "\n",
    "articles_heading = np.asarray(articles_heading)\n",
    "\n",
    "tokenizer = Tokenizer(num_words=MAX_NB_WORDS)\n",
    "tokenizer.fit_on_texts(texts_heading)\n",
    "\n",
    "\n",
    "for i, sentences in enumerate(articles_heading):\n",
    "    for j, line in enumerate(sentences):\n",
    "        if j < MAX_SENTS:\n",
    "            tokens = text_to_word_sequence(line)\n",
    "            k = 0\n",
    "            for _, word in enumerate(tokens):\n",
    "                if k < MAX_SENT_LENGTH and tokenizer.word_index[\n",
    "                    word] < MAX_NB_WORDS:\n",
    "                    data_heading[i, j, k] = tokenizer.word_index[word]\n",
    "                    k = k + 1\n"
   ]
  },
  {
   "cell_type": "markdown",
   "metadata": {
    "colab_type": "text",
    "id": "iaH0Ey1qe_Co"
   },
   "source": [
    "### Now the features are ready, lets make the labels ready for the model to process.\n",
    "\n",
    "### Convert labels into one-hot vectors\n",
    "\n",
    "You can use [get_dummies](https://pandas.pydata.org/pandas-docs/stable/generated/pandas.get_dummies.html) in pandas to create one-hot vectors."
   ]
  },
  {
   "cell_type": "code",
   "execution_count": 0,
   "metadata": {
    "colab": {},
    "colab_type": "code",
    "id": "Zq-VcgM8fat1"
   },
   "outputs": [],
   "source": [
    "import pandas as pd\n",
    "\n",
    "labels = dataset['Stance'].values\n",
    "labels = pd.get_dummies(labels)\n",
    "labels = np.asarray(labels )"
   ]
  },
  {
   "cell_type": "markdown",
   "metadata": {
    "colab_type": "text",
    "id": "40mA8FI2fcxZ"
   },
   "source": [
    "### Check 4:\n",
    "\n",
    "The shape of data and labels shoould match the given below numbers."
   ]
  },
  {
   "cell_type": "code",
   "execution_count": 0,
   "metadata": {
    "colab": {
     "base_uri": "https://localhost:8080/",
     "height": 51
    },
    "colab_type": "code",
    "id": "vpEWEnjFfnFR",
    "outputId": "dca0a5d4-c855-4879-a57c-9d1263f6941a"
   },
   "outputs": [
    {
     "name": "stdout",
     "output_type": "stream",
     "text": [
      "Shape of data tensor: (49972, 20, 20)\n",
      "Shape of label tensor: (49972, 4)\n"
     ]
    }
   ],
   "source": [
    "print('Shape of data tensor:', data.shape)\n",
    "print('Shape of label tensor:', labels.shape)"
   ]
  },
  {
   "cell_type": "markdown",
   "metadata": {
    "colab_type": "text",
    "id": "sDOxHdR3frDu"
   },
   "source": [
    "### Shuffle the data"
   ]
  },
  {
   "cell_type": "code",
   "execution_count": 0,
   "metadata": {
    "colab": {},
    "colab_type": "code",
    "id": "-Ra-yYTvfzRt"
   },
   "outputs": [],
   "source": [
    "## get numbers upto no.of articles\n",
    "indices = np.arange(data.shape[0])\n",
    "## shuffle the numbers\n",
    "np.random.shuffle(indices)"
   ]
  },
  {
   "cell_type": "code",
   "execution_count": 0,
   "metadata": {
    "colab": {
     "base_uri": "https://localhost:8080/",
     "height": 34
    },
    "colab_type": "code",
    "id": "LKnSqwIFf3Iy",
    "outputId": "f66233de-3007-403b-870f-19561debc196"
   },
   "outputs": [
    {
     "name": "stdout",
     "output_type": "stream",
     "text": [
      "(49972, 20, 20)\n"
     ]
    }
   ],
   "source": [
    "## shuffle the data\n",
    "data = data[indices]\n",
    "data_heading = data_heading[indices]\n",
    "## shuffle the labels according to data\n",
    "labels = labels[indices]\n",
    "print(data.shape)"
   ]
  },
  {
   "cell_type": "markdown",
   "metadata": {
    "colab_type": "text",
    "id": "JcOFVfPBf9kA"
   },
   "source": [
    "### Split into train and validation sets. Split the train set 80:20 ratio to get the train and validation sets.\n",
    "\n",
    "\n",
    "Use the variable names as given below:\n",
    "\n",
    "x_train, x_val - for body of articles.\n",
    "\n",
    "x_heading_train, x_heading_val - for heading of articles.\n",
    "\n",
    "y_train - for training labels.\n",
    "\n",
    "y_val - for validation labels.\n",
    "\n"
   ]
  },
  {
   "cell_type": "code",
   "execution_count": 0,
   "metadata": {
    "colab": {
     "base_uri": "https://localhost:8080/",
     "height": 34
    },
    "colab_type": "code",
    "id": "2neh9Wcof8iR",
    "outputId": "766c32f7-ae9e-4ac2-ab14-9cb8df696d9d"
   },
   "outputs": [
    {
     "name": "stdout",
     "output_type": "stream",
     "text": [
      "x_train (39977, 20, 20) y_train (39977, 4) x_heading (39977, 20, 20)\n"
     ]
    }
   ],
   "source": [
    "import numpy as np\n",
    "count = int(np.floor(0.8*data.shape[0]))\n",
    "\n",
    "x_train = data[0:count,:,:]\n",
    "y_train = labels[0:count]\n",
    "\n",
    "x_heading = data_heading[0:count,:,:]\n",
    "\n",
    "\n",
    "print(\"x_train\",x_train.shape,\"y_train\",y_train.shape,\"x_heading\",x_heading.shape)\n",
    "\n"
   ]
  },
  {
   "cell_type": "code",
   "execution_count": 0,
   "metadata": {
    "colab": {
     "base_uri": "https://localhost:8080/",
     "height": 34
    },
    "colab_type": "code",
    "id": "o5u3PTz3gEV-",
    "outputId": "236ee34d-5403-4a43-f6a8-97064ff7edda"
   },
   "outputs": [
    {
     "name": "stdout",
     "output_type": "stream",
     "text": [
      "x_val (9994, 20, 20) y_val (9994, 4) x_heading_val (9994, 20, 20)\n"
     ]
    }
   ],
   "source": [
    "import numpy as np\n",
    "count = int(np.floor(0.2*data.shape[0]))\n",
    "\n",
    "x_val = data[0:count,:,:]\n",
    "y_val = labels[0:count]\n",
    "x_heading_val = data_heading[0:count,:,:]\n",
    "\n",
    "print(\"x_val\",x_val.shape,\"y_val\",y_val.shape,\"x_heading_val\",x_heading_val.shape)"
   ]
  },
  {
   "cell_type": "markdown",
   "metadata": {
    "colab_type": "text",
    "id": "UTyvoHrsgMDw"
   },
   "source": [
    "### Check 5:\n",
    "\n",
    "The shape of x_train, x_val, y_train and y_val should match the below numbers."
   ]
  },
  {
   "cell_type": "code",
   "execution_count": 0,
   "metadata": {
    "colab": {
     "base_uri": "https://localhost:8080/",
     "height": 85
    },
    "colab_type": "code",
    "id": "KLEbiw2Yghe2",
    "outputId": "903495c5-e317-4a5b-e37e-24edf2807159"
   },
   "outputs": [
    {
     "name": "stdout",
     "output_type": "stream",
     "text": [
      "(39977, 20, 20)\n",
      "(39977, 4)\n",
      "(9994, 20, 20)\n",
      "(9994, 4)\n"
     ]
    }
   ],
   "source": [
    "print(x_train.shape)\n",
    "print(y_train.shape)\n",
    "\n",
    "print(x_val.shape)\n",
    "print(y_val.shape)\n"
   ]
  },
  {
   "cell_type": "markdown",
   "metadata": {
    "colab_type": "text",
    "id": "yNnoBtArhJ1E"
   },
   "source": [
    "### Create embedding matrix with the glove embeddings\n",
    "\n",
    "\n",
    "To create embedding_matrix which has all the words and their glove embedding if present in glove word list."
   ]
  },
  {
   "cell_type": "code",
   "execution_count": 0,
   "metadata": {
    "colab": {
     "base_uri": "https://localhost:8080/",
     "height": 34
    },
    "colab_type": "code",
    "id": "eKqn2IL2ZF8v",
    "outputId": "df51b298-94fb-4476-fa85-2f0244fc2573"
   },
   "outputs": [
    {
     "name": "stdout",
     "output_type": "stream",
     "text": [
      "Loaded 400000 word vectors.\n"
     ]
    }
   ],
   "source": [
    "# load the whole embedding into memory\n",
    "embeddings_index = dict()\n",
    "f = open('./glove.6B.100d.txt')\n",
    "for line in f:\n",
    "\tvalues = line.split()\n",
    "\tword = values[0]\n",
    "\tcoefs = np.asarray(values[1:], dtype='float32')\n",
    "\tembeddings_index[word] = coefs\n",
    "f.close()\n",
    "print('Loaded %s word vectors.' % len(embeddings_index))\n",
    "\n",
    "# create a weight matrix for words in training docs\n",
    "embedding_matrix = np.zeros((len(word_index) + 1, 100))\n",
    "\n",
    "\n",
    "for word, i in t.word_index.items():\n",
    "\tembedding_vector = embeddings_index.get(word)\n",
    "\tif embedding_vector is not None:\n",
    "\t\tembedding_matrix[i] = embedding_vector\n",
    "    \n",
    "  "
   ]
  },
  {
   "cell_type": "markdown",
   "metadata": {
    "colab_type": "text",
    "id": "LRi4o3ZspDFU"
   },
   "source": [
    "## Try different sequential models and report accuracy scores for each model.\n",
    "\n"
   ]
  },
  {
   "cell_type": "markdown",
   "metadata": {
    "colab_type": "text",
    "id": "zSZDnPWkw2ZZ"
   },
   "source": [
    "### Import layers from Keras to build the model"
   ]
  },
  {
   "cell_type": "code",
   "execution_count": 0,
   "metadata": {
    "colab": {
     "base_uri": "https://localhost:8080/",
     "height": 51
    },
    "colab_type": "code",
    "id": "5AgwQsfMrzAQ",
    "outputId": "1cef6687-19ab-404a-b696-3c038462fe86"
   },
   "outputs": [
    {
     "name": "stdout",
     "output_type": "stream",
     "text": [
      "(39977, 20, 20)\n",
      "(9994, 20, 20)\n"
     ]
    }
   ],
   "source": [
    "from keras import Sequential\n",
    "from keras.layers import Dense\n",
    "from keras.layers import Embedding\n",
    "from keras.layers import Dense, Input, Flatten\n",
    "from keras.layers import Conv1D, MaxPooling1D, Embedding, Dropout, LSTM, GRU, Bidirectional\n",
    "from keras.models import Model\n",
    "from keras.layers import Dense, Embedding, LSTM, SpatialDropout1D\n",
    "\n",
    "# Concatenate articles and headings from training dataset\n",
    "x_tr = np.matmul(x_train,x_heading)\n",
    "print(x_tr.shape)\n",
    "\n",
    "#  Concatenate articles and headings from validation dataset\n",
    "x_te = np.matmul(x_val,x_heading_val)\n",
    "print(x_te.shape)"
   ]
  },
  {
   "cell_type": "markdown",
   "metadata": {
    "colab_type": "text",
    "id": "gpkVhIbx3gr1"
   },
   "source": [
    "### Model"
   ]
  },
  {
   "cell_type": "code",
   "execution_count": 0,
   "metadata": {
    "colab": {},
    "colab_type": "code",
    "id": "G_8QXh-rmPFq"
   },
   "outputs": [],
   "source": [
    "vocab_size = len(word_index) + 1\n",
    "embed_dim = 100\n",
    "lstm_out = 400\n",
    "\n",
    "# Build a Sequential model\n",
    "model = Sequential()\n",
    "model.add(Embedding(vocab_size, 100, weights=[embedding_matrix], input_length=MAX_SENT_LENGTH*MAX_SENTS, trainable=False))\n",
    "model.add(SpatialDropout1D(0.4))\n",
    "model.add(LSTM(lstm_out, dropout=0.2, recurrent_dropout=0.2))\n",
    "model.add(Dense(4,activation='softmax'))"
   ]
  },
  {
   "cell_type": "markdown",
   "metadata": {
    "colab_type": "text",
    "id": "C5Xrd-JQ3id7"
   },
   "source": [
    "### Compile and fit the model"
   ]
  },
  {
   "cell_type": "code",
   "execution_count": 0,
   "metadata": {
    "colab": {
     "base_uri": "https://localhost:8080/",
     "height": 289
    },
    "colab_type": "code",
    "id": "MlduHU2CovxC",
    "outputId": "ec33cd9d-e73d-46e3-fe3d-a4dd3f25c75b"
   },
   "outputs": [
    {
     "name": "stdout",
     "output_type": "stream",
     "text": [
      "_________________________________________________________________\n",
      "Layer (type)                 Output Shape              Param #   \n",
      "=================================================================\n",
      "embedding_11 (Embedding)     (None, 400, 100)          2742800   \n",
      "_________________________________________________________________\n",
      "spatial_dropout1d_2 (Spatial (None, 400, 100)          0         \n",
      "_________________________________________________________________\n",
      "lstm_2 (LSTM)                (None, 400)               801600    \n",
      "_________________________________________________________________\n",
      "dense_20 (Dense)             (None, 4)                 1604      \n",
      "=================================================================\n",
      "Total params: 3,546,004\n",
      "Trainable params: 803,204\n",
      "Non-trainable params: 2,742,800\n",
      "_________________________________________________________________\n",
      "None\n"
     ]
    }
   ],
   "source": [
    "model.compile(loss = 'categorical_crossentropy', optimizer='adam',metrics = ['acc'])\n",
    "print(model.summary())"
   ]
  },
  {
   "cell_type": "code",
   "execution_count": 0,
   "metadata": {
    "colab": {
     "base_uri": "https://localhost:8080/",
     "height": 374
    },
    "colab_type": "code",
    "id": "CM3yCmjQoCM3",
    "outputId": "f337e7f3-d717-400a-eafb-fe57f57e70fb"
   },
   "outputs": [
    {
     "name": "stdout",
     "output_type": "stream",
     "text": [
      "Epoch 1/10\n",
      "39977/39977 [==============================] - 125s 3ms/step - loss: 0.8032 - acc: 0.7293\n",
      "Epoch 2/10\n",
      "39977/39977 [==============================] - 125s 3ms/step - loss: 0.8012 - acc: 0.7293\n",
      "Epoch 3/10\n",
      "39977/39977 [==============================] - 125s 3ms/step - loss: 0.8020 - acc: 0.7292\n",
      "Epoch 4/10\n",
      "39977/39977 [==============================] - 125s 3ms/step - loss: 0.8029 - acc: 0.7291\n",
      "Epoch 5/10\n",
      "39977/39977 [==============================] - 125s 3ms/step - loss: 0.8025 - acc: 0.7292\n",
      "Epoch 6/10\n",
      "39977/39977 [==============================] - 125s 3ms/step - loss: 0.8019 - acc: 0.7293\n",
      "Epoch 7/10\n",
      "39977/39977 [==============================] - 125s 3ms/step - loss: 0.8012 - acc: 0.7293\n",
      "Epoch 8/10\n",
      "39977/39977 [==============================] - 125s 3ms/step - loss: 0.8018 - acc: 0.7292\n",
      "Epoch 9/10\n",
      "39977/39977 [==============================] - 125s 3ms/step - loss: 0.8013 - acc: 0.7292\n",
      "Epoch 10/10\n",
      "39977/39977 [==============================] - 125s 3ms/step - loss: 0.8016 - acc: 0.7293\n"
     ]
    },
    {
     "data": {
      "text/plain": [
       "<keras.callbacks.History at 0x7f0ed7c87d30>"
      ]
     },
     "execution_count": 63,
     "metadata": {
      "tags": []
     },
     "output_type": "execute_result"
    }
   ],
   "source": [
    "model.fit(x_tr.reshape(x_tr.shape[0],400),y_train,epochs=10,batch_size=512,verbose=1)"
   ]
  },
  {
   "cell_type": "code",
   "execution_count": 0,
   "metadata": {
    "colab": {
     "base_uri": "https://localhost:8080/",
     "height": 51
    },
    "colab_type": "code",
    "id": "KxeGX_gbjK4g",
    "outputId": "f7049d63-4783-490d-acea-7a8a01f9bb33"
   },
   "outputs": [
    {
     "name": "stdout",
     "output_type": "stream",
     "text": [
      "9994/9994 [==============================] - 100s 10ms/step\n"
     ]
    },
    {
     "data": {
      "text/plain": [
       "[0.7982717474174423, 0.7308385030780049]"
      ]
     },
     "execution_count": 64,
     "metadata": {
      "tags": []
     },
     "output_type": "execute_result"
    }
   ],
   "source": [
    "model.evaluate(x_te.reshape(x_te.shape[0],400), y_val, batch_size=32)"
   ]
  },
  {
   "cell_type": "code",
   "execution_count": 0,
   "metadata": {
    "colab": {
     "base_uri": "https://localhost:8080/",
     "height": 578
    },
    "colab_type": "code",
    "id": "cwIilWNJd1e1",
    "outputId": "5209f0e7-9adf-462d-b6d5-044ef788dfd9"
   },
   "outputs": [
    {
     "name": "stdout",
     "output_type": "stream",
     "text": [
      "(39977, 20, 20) (39977, 400)\n",
      "Train on 39977 samples, validate on 9994 samples\n",
      "Epoch 1/15\n",
      "39977/39977 [==============================] - 10s 240us/step - loss: 0.8747 - acc: 0.7231 - val_loss: 0.7524 - val_acc: 0.7361\n",
      "Epoch 2/15\n",
      "39977/39977 [==============================] - 9s 226us/step - loss: 0.7659 - acc: 0.7323 - val_loss: 0.7074 - val_acc: 0.7448\n",
      "Epoch 3/15\n",
      "39977/39977 [==============================] - 9s 228us/step - loss: 0.7264 - acc: 0.7424 - val_loss: 0.6768 - val_acc: 0.7571\n",
      "Epoch 4/15\n",
      "39977/39977 [==============================] - 9s 228us/step - loss: 0.6937 - acc: 0.7556 - val_loss: 0.6472 - val_acc: 0.7756\n",
      "Epoch 5/15\n",
      "39977/39977 [==============================] - 9s 225us/step - loss: 0.6653 - acc: 0.7663 - val_loss: 0.6231 - val_acc: 0.7837\n",
      "Epoch 6/15\n",
      "39977/39977 [==============================] - 9s 225us/step - loss: 0.6455 - acc: 0.7730 - val_loss: 0.6052 - val_acc: 0.7894\n",
      "Epoch 7/15\n",
      "39977/39977 [==============================] - 9s 225us/step - loss: 0.6298 - acc: 0.7806 - val_loss: 0.5989 - val_acc: 0.7928\n",
      "Epoch 8/15\n",
      "39977/39977 [==============================] - 9s 225us/step - loss: 0.6192 - acc: 0.7843 - val_loss: 0.5930 - val_acc: 0.7948\n",
      "Epoch 9/15\n",
      "39977/39977 [==============================] - 9s 225us/step - loss: 0.6121 - acc: 0.7876 - val_loss: 0.5875 - val_acc: 0.7971\n",
      "Epoch 10/15\n",
      "39977/39977 [==============================] - 9s 225us/step - loss: 0.6069 - acc: 0.7889 - val_loss: 0.5866 - val_acc: 0.7976\n",
      "Epoch 11/15\n",
      "39977/39977 [==============================] - 9s 225us/step - loss: 0.6027 - acc: 0.7898 - val_loss: 0.5787 - val_acc: 0.7985\n",
      "Epoch 12/15\n",
      "39977/39977 [==============================] - 9s 225us/step - loss: 0.6007 - acc: 0.7901 - val_loss: 0.5747 - val_acc: 0.8007\n",
      "Epoch 13/15\n",
      "39977/39977 [==============================] - 9s 225us/step - loss: 0.5981 - acc: 0.7912 - val_loss: 0.5782 - val_acc: 0.7983\n",
      "Epoch 14/15\n",
      "39977/39977 [==============================] - 9s 225us/step - loss: 0.5952 - acc: 0.7924 - val_loss: 0.5764 - val_acc: 0.8004\n",
      "Epoch 15/15\n",
      "39977/39977 [==============================] - 9s 226us/step - loss: 0.5946 - acc: 0.7918 - val_loss: 0.5740 - val_acc: 0.8021\n"
     ]
    },
    {
     "data": {
      "text/plain": [
       "<keras.callbacks.History at 0x7f0ed8e30e80>"
      ]
     },
     "execution_count": 56,
     "metadata": {
      "tags": []
     },
     "output_type": "execute_result"
    }
   ],
   "source": [
    "import keras\n",
    "from keras.layers import Flatten\n",
    "from keras.layers.convolutional import Conv2D\n",
    "from keras.layers.pooling import MaxPooling2D\n",
    "\n",
    "# Build another model\n",
    "model = Sequential()\n",
    "model.add(Embedding(vocab_size, 100, weights=[embedding_matrix], input_length=MAX_SENT_LENGTH*MAX_SENTS, trainable=False))\n",
    "model.add(Flatten())\n",
    "model.add(Dense(128,activation='relu'))\n",
    "model.add(Dense(4, activation='softmax'))\n",
    "model.compile(loss=keras.losses.categorical_crossentropy,\n",
    "              optimizer=keras.optimizers.Adam(),\n",
    "              metrics=['accuracy'])\n",
    "model.fit(x_tr.reshape(x_tr.shape[0],400), y_train,validation_data=(x_te.reshape(x_te.shape[0],400), y_val), epochs = 15,  batch_size=50, verbose = 1)\n"
   ]
  },
  {
   "cell_type": "code",
   "execution_count": 0,
   "metadata": {
    "colab": {
     "base_uri": "https://localhost:8080/",
     "height": 51
    },
    "colab_type": "code",
    "id": "5HUZgCcenovj",
    "outputId": "a446cc3d-6322-449c-bcef-81fce76a7267"
   },
   "outputs": [
    {
     "name": "stdout",
     "output_type": "stream",
     "text": [
      "9994/9994 [==============================] - 1s 79us/step\n"
     ]
    },
    {
     "data": {
      "text/plain": [
       "[0.5739686151301835, 0.8020812487492496]"
      ]
     },
     "execution_count": 58,
     "metadata": {
      "tags": []
     },
     "output_type": "execute_result"
    }
   ],
   "source": [
    "model.evaluate(x_te.reshape(x_te.shape[0],400), y_val, batch_size=32)"
   ]
  }
 ],
 "metadata": {
  "accelerator": "GPU",
  "colab": {
   "collapsed_sections": [],
   "name": "AnupriyaRamachandran_DLCP_Project3_Milestone3.ipynb",
   "provenance": [],
   "toc_visible": true,
   "version": "0.3.2"
  },
  "kernelspec": {
   "display_name": "Python 3",
   "language": "python",
   "name": "python3"
  },
  "language_info": {
   "codemirror_mode": {
    "name": "ipython",
    "version": 3
   },
   "file_extension": ".py",
   "mimetype": "text/x-python",
   "name": "python",
   "nbconvert_exporter": "python",
   "pygments_lexer": "ipython3",
   "version": "3.7.3"
  }
 },
 "nbformat": 4,
 "nbformat_minor": 1
}
